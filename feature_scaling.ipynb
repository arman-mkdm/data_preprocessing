{
  "nbformat": 4,
  "nbformat_minor": 0,
  "metadata": {
    "colab": {
      "provenance": []
    },
    "kernelspec": {
      "name": "python3",
      "display_name": "Python 3"
    },
    "language_info": {
      "name": "python"
    }
  },
  "cells": [
    {
      "cell_type": "code",
      "execution_count": 1,
      "metadata": {
        "colab": {
          "base_uri": "https://localhost:8080/",
          "height": 88
        },
        "id": "KmDEzY2qTJ6q",
        "outputId": "cc79bc41-1198-4b92-8ff2-bc0c49af02fa"
      },
      "outputs": [
        {
          "output_type": "execute_result",
          "data": {
            "text/plain": [
              "'What is Feature Scaling?\\n\\n•Feature Scaling is a method to scale numeric features in the same scale or range (like:-1 to 1,  0 to 1).\\n•This is the last step involved in Data Preprocessing and before ML model training.\\n•It is also called as data normalization.\\n•We apply Feature Scaling on independent variables.\\n•We fit feature scaling with train data and transform on train and test data.\\nWhy Feature Scaling?\\n\\n•The scale of raw features is different according to its units.\\n•Machine Learning algorithms can’t understand features units, understand only numbers.\\n•Ex: If hight 140cm and 8.2feet\\n•ML Algorithms understand numbers then 140 > 8.2'"
            ],
            "application/vnd.google.colaboratory.intrinsic+json": {
              "type": "string"
            }
          },
          "metadata": {},
          "execution_count": 1
        }
      ],
      "source": [
        "'''What is Feature Scaling?\n",
        "\n",
        "•Feature Scaling is a method to scale numeric features in the same scale or range (like:-1 to 1,  0 to 1).\n",
        "•This is the last step involved in Data Preprocessing and before ML model training.\n",
        "•It is also called as data normalization.\n",
        "•We apply Feature Scaling on independent variables.\n",
        "•We fit feature scaling with train data and transform on train and test data.\n",
        "Why Feature Scaling?\n",
        "\n",
        "•The scale of raw features is different according to its units.\n",
        "•Machine Learning algorithms can’t understand features units, understand only numbers.\n",
        "•Ex: If hight 140cm and 8.2feet\n",
        "•ML Algorithms understand numbers then 140 > 8.2'''"
      ]
    },
    {
      "cell_type": "code",
      "source": [
        "'''Which ML Algorithms Required Feature Scaling?\n",
        "\n",
        "Those Algorithms Calculate Distance\n",
        "\n",
        "•K-Nearest Neighbors (KNN)\n",
        "•K-Means\n",
        "•Support Vector Machine (SVM)\n",
        "•Principal Component Analysis(PCA)\n",
        "•Linear Discriminant Analysis\n",
        "Gradient Descent Based Algorithms\n",
        "\n",
        "•Linear Regression,\n",
        "•Logistic Regression\n",
        "•Neural Network\n",
        "Tree Based Algorithms not required Feature scaling\n",
        "\n",
        "•Decision Tree, Random Forest, XGBoost'''"
      ],
      "metadata": {
        "colab": {
          "base_uri": "https://localhost:8080/",
          "height": 106
        },
        "id": "ii2j9_s_TV7o",
        "outputId": "be5d8db8-b345-4034-f3c5-b41d55b56a46"
      },
      "execution_count": 2,
      "outputs": [
        {
          "output_type": "error",
          "ename": "SyntaxError",
          "evalue": "invalid character '•' (U+2022) (<ipython-input-2-07402a497f92>, line 5)",
          "traceback": [
            "\u001b[0;36m  File \u001b[0;32m\"<ipython-input-2-07402a497f92>\"\u001b[0;36m, line \u001b[0;32m5\u001b[0m\n\u001b[0;31m    •K-Nearest Neighbors (KNN)\u001b[0m\n\u001b[0m    ^\u001b[0m\n\u001b[0;31mSyntaxError\u001b[0m\u001b[0;31m:\u001b[0m invalid character '•' (U+2022)\n"
          ]
        }
      ]
    },
    {
      "cell_type": "code",
      "source": [
        "'''Types of Feature Scaling\n",
        "\n",
        "•1) Min Max Scaler\n",
        "•2) Standard Scaler\n",
        "•3) Max Abs Scaler\n",
        "•4) Robust Scaler\n",
        "•5) Quantile Transformer Scaler\n",
        "•6) Power Transformer Scaler\n",
        "•7) Unit Vector Scaler'''"
      ],
      "metadata": {
        "colab": {
          "base_uri": "https://localhost:8080/",
          "height": 106
        },
        "id": "l1RaZI2CTfNa",
        "outputId": "5f8fa39f-2011-4e0f-dc10-bd1953551c11"
      },
      "execution_count": 3,
      "outputs": [
        {
          "output_type": "error",
          "ename": "SyntaxError",
          "evalue": "invalid character '•' (U+2022) (<ipython-input-3-8ebe5a72223b>, line 3)",
          "traceback": [
            "\u001b[0;36m  File \u001b[0;32m\"<ipython-input-3-8ebe5a72223b>\"\u001b[0;36m, line \u001b[0;32m3\u001b[0m\n\u001b[0;31m    •1) Min Max Scaler\u001b[0m\n\u001b[0m    ^\u001b[0m\n\u001b[0;31mSyntaxError\u001b[0m\u001b[0;31m:\u001b[0m invalid character '•' (U+2022)\n"
          ]
        }
      ]
    },
    {
      "cell_type": "code",
      "source": [
        "'''What is Standardization?\n",
        "\n",
        "•Standardization rescale the feature such as mean(μ) = 0 and standard deviation (σ) = 1.\n",
        "•The result of standardization is Z called as Z-score normalization.\n",
        "• If data follow a normal distribution (gaussian distribution).\n",
        "• If the original distribution is normal, then the standardized distribution will be normal.\n",
        "• If the original distribution is skewed, then the standardized distribution of the variable will also be skewed.'''"
      ],
      "metadata": {
        "colab": {
          "base_uri": "https://localhost:8080/",
          "height": 106
        },
        "id": "cYijn2uNTkm8",
        "outputId": "2a3f5c16-3500-4ed6-b0d0-3c7f015fd2ce"
      },
      "execution_count": 4,
      "outputs": [
        {
          "output_type": "error",
          "ename": "SyntaxError",
          "evalue": "invalid character '•' (U+2022) (<ipython-input-4-3762d03982d9>, line 3)",
          "traceback": [
            "\u001b[0;36m  File \u001b[0;32m\"<ipython-input-4-3762d03982d9>\"\u001b[0;36m, line \u001b[0;32m3\u001b[0m\n\u001b[0;31m    •Standardization rescale the feature such as mean(μ) = 0 and standard deviation (σ) = 1.\u001b[0m\n\u001b[0m    ^\u001b[0m\n\u001b[0;31mSyntaxError\u001b[0m\u001b[0;31m:\u001b[0m invalid character '•' (U+2022)\n"
          ]
        }
      ]
    },
    {
      "cell_type": "code",
      "source": [
        "'''Normalization rescale the feature in fixed range between 0 to 1.\n",
        "•Normalization also called as Min-Max Scaling.\n",
        "•If data doesn’t follow normal distribution (Gaussian distribution).'''"
      ],
      "metadata": {
        "colab": {
          "base_uri": "https://localhost:8080/",
          "height": 106
        },
        "id": "YZxznnFbTpLj",
        "outputId": "f6920dc4-1912-4718-cd1e-7fac90caf3f7"
      },
      "execution_count": 5,
      "outputs": [
        {
          "output_type": "error",
          "ename": "SyntaxError",
          "evalue": "invalid character '•' (U+2022) (<ipython-input-5-7fc2e578f6b2>, line 2)",
          "traceback": [
            "\u001b[0;36m  File \u001b[0;32m\"<ipython-input-5-7fc2e578f6b2>\"\u001b[0;36m, line \u001b[0;32m2\u001b[0m\n\u001b[0;31m    •Normalization also called as Min-Max Scaling.\u001b[0m\n\u001b[0m    ^\u001b[0m\n\u001b[0;31mSyntaxError\u001b[0m\u001b[0;31m:\u001b[0m invalid character '•' (U+2022)\n"
          ]
        }
      ]
    },
    {
      "cell_type": "code",
      "source": [
        "'''Standardization  vs Normalization\n",
        "\n",
        "•There is no any thumb rule to use Standardization or Normalization for special ML algo.\n",
        "•But mostly Standardization use for clustering analyses, Principal Component Analysis(PCA).\n",
        "•Normalization prefers for Image processing because of pixel intensity between 0 to 255, neural network algorithm requires data in scale 0-1, K-Nearest Neighbors.'''"
      ],
      "metadata": {
        "id": "bTa2lVG2TpgN"
      },
      "execution_count": null,
      "outputs": []
    }
  ]
}